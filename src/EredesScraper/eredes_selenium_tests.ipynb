{
 "cells": [
  {
   "cell_type": "code",
   "execution_count": 59,
   "metadata": {
    "collapsed": true
   },
   "outputs": [
    {
     "name": "stderr",
     "output_type": "stream",
     "text": [
      "[WDM] - Downloading: 100%|██████████| 6.58M/6.58M [00:00<00:00, 27.8MB/s]\n",
      "C:\\Users\\santor72\\AppData\\Local\\Temp\\ipykernel_14232\\4038299892.py:12: DeprecationWarning: use options instead of chrome_options\n",
      "  driver = webdriver.Chrome(service=ChromeService(ChromeDriverManager().install()), chrome_options=chrome_options)\n"
     ]
    }
   ],
   "source": [
    "from selenium import webdriver\n",
    "from selenium.webdriver.chrome.service import Service as ChromeService\n",
    "from webdriver_manager.chrome import ChromeDriverManager\n",
    "from selenium.webdriver.support.ui import WebDriverWait as wait\n",
    "from selenium.webdriver.support import expected_conditions as EC\n",
    "from selenium.webdriver.common.by import By\n",
    "\n",
    "chrome_options = webdriver.ChromeOptions()\n",
    "# chrome_options.add_argument('--headless')\n",
    "# chrome_options.add_argument('--no-sandbox')\n",
    "# chrome_options.add_argument('--disable-dev-shm-usage')\n",
    "driver = webdriver.Chrome(service=ChromeService(ChromeDriverManager().install()), chrome_options=chrome_options)"
   ]
  },
  {
   "cell_type": "code",
   "execution_count": 60,
   "outputs": [],
   "source": [
    "driver.get('https://balcaodigital.e-redes.pt/consumptions/history')"
   ],
   "metadata": {
    "collapsed": false
   }
  },
  {
   "cell_type": "code",
   "execution_count": 61,
   "outputs": [],
   "source": [
    "user = '258596198'\n",
    "password = '25m@steR27'\n",
    "cpe = 'PT0002000045812204TW'"
   ],
   "metadata": {
    "collapsed": false
   }
  },
  {
   "cell_type": "code",
   "execution_count": 62,
   "outputs": [],
   "source": [
    "wait(driver, 10).until(EC.element_to_be_clickable((By.XPATH, \"/html/body/app-root/nz-layout/app-default/main/nz-content/div/div[2]/section[1]/div[2]/div/div/ul/li[1]/div[2]\"))).click()"
   ],
   "metadata": {
    "collapsed": false
   }
  },
  {
   "cell_type": "code",
   "execution_count": 63,
   "outputs": [],
   "source": [
    "uname = driver.find_element(By.XPATH, \"/html/body/app-root/nz-layout/app-default/main/nz-content/div/div[2]/section[1]/app-sign-in/div/div/form/nz-form-item[1]/nz-form-control/div/div/div/input\")\n",
    "uname.send_keys(user)\n",
    "\n",
    "passwd = driver.find_element(By.XPATH, \"/html/body/app-root/nz-layout/app-default/main/nz-content/div/div[2]/section[1]/app-sign-in/div/div/form/nz-form-item[2]/nz-form-control/div/div/div/nz-input-group/input\")\n",
    "passwd.send_keys(password)\n",
    "\n",
    "wait(driver, 10)\n",
    "\n",
    "login_btn = driver.find_element(By.XPATH, \"/html/body/app-root/nz-layout/app-default/main/nz-content/div/div[2]/section[1]/app-sign-in/div/div/form/div[2]/div/button/span\").click()"
   ],
   "metadata": {
    "collapsed": false
   }
  },
  {
   "cell_type": "code",
   "execution_count": 44,
   "outputs": [
    {
     "data": {
      "text/plain": "<selenium.webdriver.support.wait.WebDriverWait (session=\"aeaeddb75b8df4716aaa8abddebf68a8\")>"
     },
     "execution_count": 44,
     "metadata": {},
     "output_type": "execute_result"
    }
   ],
   "source": [
    "# ONLY IF COMING FROM LOGIN PAGE\n",
    "# wait(driver, 10)\n",
    "#\n",
    "# my_locations = driver.find_element(By.XPATH, \"/html/body/app-root/nz-layout/app-default/app-masterpage/main/nz-layout/nz-content/section[1]/div[2]/div/div/div[1]\").click()\n",
    "#\n",
    "# wait(driver, 10)\n",
    "#\n",
    "# readings = driver.find_element(By.XPATH, \"/html/body/app-root/nz-layout/app-premises/app-masterpage/main/nz-layout/nz-content/section[1]/div[3]/div/div/app-nav-options-cards/ul/li[1]\").click()\n",
    "#\n",
    "# wait(driver, 10)\n",
    "#\n",
    "# consumption_hist = driver.find_element(By.XPATH, \"/html/body/app-root/nz-layout/app-readings/app-masterpage/main/nz-layout/nz-content/section[1]/div[3]/div/div/app-nav-options-cards/ul/li[2]/div[2]\").click()\n",
    "\n",
    "wait(driver, 30)\n",
    "\n"
   ],
   "metadata": {
    "collapsed": false
   }
  },
  {
   "cell_type": "code",
   "execution_count": 64,
   "outputs": [],
   "source": [
    "cpes = driver.find_elements(By.XPATH, \"//*[text()[contains(., '{cpe}')]]\".format(cpe=cpe))"
   ],
   "metadata": {
    "collapsed": false
   }
  },
  {
   "cell_type": "code",
   "execution_count": 65,
   "outputs": [
    {
     "data": {
      "text/plain": "<selenium.webdriver.support.wait.WebDriverWait (session=\"088303e29e7fcc32b97b5b0c7c691e32\")>"
     },
     "execution_count": 65,
     "metadata": {},
     "output_type": "execute_result"
    }
   ],
   "source": [
    "cpes[0].click()\n",
    "\n",
    "wait(driver, 60)"
   ],
   "metadata": {
    "collapsed": false
   }
  },
  {
   "cell_type": "code",
   "execution_count": null,
   "outputs": [],
   "source": [
    "driver.find_element(By.XPATH, \"/html/body/app-root/nz-layout/app-history/app-masterpage/main/nz-layout/nz-content/app-readings/section/div/div/div/div[2]/div[2]/div/p/a/strong\").click()"
   ],
   "metadata": {
    "collapsed": false
   }
  },
  {
   "cell_type": "code",
   "execution_count": 58,
   "outputs": [],
   "source": [
    "driver.find_element(By.XPATH, \"/html/body/app-root/nz-layout/app-history/app-masterpage/main/nz-layout/nz-content/app-consumptions-chart/section/div/div/div/div[2]/div[2]/p\").click()"
   ],
   "metadata": {
    "collapsed": false
   }
  },
  {
   "cell_type": "code",
   "execution_count": null,
   "outputs": [],
   "source": [],
   "metadata": {
    "collapsed": false
   }
  }
 ],
 "metadata": {
  "kernelspec": {
   "display_name": "Python 3",
   "language": "python",
   "name": "python3"
  },
  "language_info": {
   "codemirror_mode": {
    "name": "ipython",
    "version": 2
   },
   "file_extension": ".py",
   "mimetype": "text/x-python",
   "name": "python",
   "nbconvert_exporter": "python",
   "pygments_lexer": "ipython2",
   "version": "2.7.6"
  }
 },
 "nbformat": 4,
 "nbformat_minor": 0
}
